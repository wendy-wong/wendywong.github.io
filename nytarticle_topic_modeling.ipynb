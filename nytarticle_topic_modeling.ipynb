{
 "cells": [
  {
   "cell_type": "markdown",
   "id": "09c9d59f",
   "metadata": {},
   "source": [
    " ## Topic Modelling for New York Times Articles\n",
    " \n",
    " Dataset: https://www.kaggle.com/datasets/aashita/nyt-comments\n",
    " \n",
    " We need to define the number of topic before hand in LDA\n",
    " \n",
    " References:\n",
    " \n",
    " * Link: https://towardsdatascience.com/end-to-end-topic-modeling-in-python-latent-dirichlet-allocation-lda-35ce4ed6b3e0\n",
    " * Link: https://scikit-learn.org/0.22/modules/generated/sklearn.feature_extraction.text.CountVectorizer.html#sklearn.feature_extraction.text.CountVectorizer.get_feature_names\n",
    " * Link: https://github.com/rasbt/python-machine-learning-book-3rd-edition/blob/master/ch08/ch08.ipynb\n",
    " * Link: https://scikit-learn.org/0.22/modules/generated/sklearn.feature_extraction.text.CountVectorizer.html#sklearn.feature_extraction.text.CountVectorizer.get_feature_names"
   ]
  },
  {
   "cell_type": "code",
   "execution_count": 1,
   "id": "dafdcf53",
   "metadata": {},
   "outputs": [
    {
     "name": "stderr",
     "output_type": "stream",
     "text": [
      "C:\\Users\\Wendy\\anaconda3\\lib\\site-packages\\pandas\\core\\arrays\\masked.py:60: UserWarning: Pandas requires version '1.3.6' or newer of 'bottleneck' (version '1.3.5' currently installed).\n",
      "  from pandas.core import (\n"
     ]
    }
   ],
   "source": [
    "# Load Python libaries\n",
    "import pandas as pd\n",
    "from sklearn.decomposition import LatentDirichletAllocation\n",
    "from sklearn.feature_extraction.text import CountVectorizer\n",
    "import pandas as pd\n",
    "import numpy as np\n",
    "import matplotlib.pyplot as plt\n",
    "import seaborn as sns"
   ]
  },
  {
   "cell_type": "code",
   "execution_count": 2,
   "id": "ec643e97",
   "metadata": {},
   "outputs": [],
   "source": [
    "# Load the dataset\n",
    "df = pd.read_csv ('ArticlesApril2017.csv', encoding='utf-8')"
   ]
  },
  {
   "cell_type": "code",
   "execution_count": 3,
   "id": "d4a38f17",
   "metadata": {},
   "outputs": [
    {
     "data": {
      "text/html": [
       "<div>\n",
       "<style scoped>\n",
       "    .dataframe tbody tr th:only-of-type {\n",
       "        vertical-align: middle;\n",
       "    }\n",
       "\n",
       "    .dataframe tbody tr th {\n",
       "        vertical-align: top;\n",
       "    }\n",
       "\n",
       "    .dataframe thead th {\n",
       "        text-align: right;\n",
       "    }\n",
       "</style>\n",
       "<table border=\"1\" class=\"dataframe\">\n",
       "  <thead>\n",
       "    <tr style=\"text-align: right;\">\n",
       "      <th></th>\n",
       "      <th>abstract</th>\n",
       "      <th>articleID</th>\n",
       "      <th>articleWordCount</th>\n",
       "      <th>byline</th>\n",
       "      <th>documentType</th>\n",
       "      <th>headline</th>\n",
       "      <th>keywords</th>\n",
       "      <th>multimedia</th>\n",
       "      <th>newDesk</th>\n",
       "      <th>printPage</th>\n",
       "      <th>pubDate</th>\n",
       "      <th>sectionName</th>\n",
       "      <th>snippet</th>\n",
       "      <th>source</th>\n",
       "      <th>typeOfMaterial</th>\n",
       "      <th>webURL</th>\n",
       "    </tr>\n",
       "  </thead>\n",
       "  <tbody>\n",
       "    <tr>\n",
       "      <th>0</th>\n",
       "      <td>NaN</td>\n",
       "      <td>58def1347c459f24986d7c80</td>\n",
       "      <td>716</td>\n",
       "      <td>By STEPHEN HILTNER and SUSAN LEHMAN</td>\n",
       "      <td>article</td>\n",
       "      <td>Finding an Expansive View  of a Forgotten Peop...</td>\n",
       "      <td>['Photography', 'New York Times', 'Niger', 'Fe...</td>\n",
       "      <td>3</td>\n",
       "      <td>Insider</td>\n",
       "      <td>2</td>\n",
       "      <td>2017-04-01 00:15:41</td>\n",
       "      <td>Unknown</td>\n",
       "      <td>One of the largest photo displays in Times his...</td>\n",
       "      <td>The New York Times</td>\n",
       "      <td>News</td>\n",
       "      <td>https://www.nytimes.com/2017/03/31/insider/nig...</td>\n",
       "    </tr>\n",
       "    <tr>\n",
       "      <th>1</th>\n",
       "      <td>NaN</td>\n",
       "      <td>58def3237c459f24986d7c84</td>\n",
       "      <td>823</td>\n",
       "      <td>By GAIL COLLINS</td>\n",
       "      <td>article</td>\n",
       "      <td>And Now,  the Dreaded Trump Curse</td>\n",
       "      <td>['United States Politics and Government', 'Tru...</td>\n",
       "      <td>3</td>\n",
       "      <td>OpEd</td>\n",
       "      <td>23</td>\n",
       "      <td>2017-04-01 00:23:58</td>\n",
       "      <td>Unknown</td>\n",
       "      <td>Meet the gang from under the bus.</td>\n",
       "      <td>The New York Times</td>\n",
       "      <td>Op-Ed</td>\n",
       "      <td>https://www.nytimes.com/2017/03/31/opinion/and...</td>\n",
       "    </tr>\n",
       "    <tr>\n",
       "      <th>2</th>\n",
       "      <td>NaN</td>\n",
       "      <td>58def9f57c459f24986d7c90</td>\n",
       "      <td>575</td>\n",
       "      <td>By THE EDITORIAL BOARD</td>\n",
       "      <td>article</td>\n",
       "      <td>Venezuela’s Descent Into Dictatorship</td>\n",
       "      <td>['Venezuela', 'Politics and Government', 'Madu...</td>\n",
       "      <td>3</td>\n",
       "      <td>Editorial</td>\n",
       "      <td>22</td>\n",
       "      <td>2017-04-01 00:53:06</td>\n",
       "      <td>Unknown</td>\n",
       "      <td>A court ruling annulling the legislature’s aut...</td>\n",
       "      <td>The New York Times</td>\n",
       "      <td>Editorial</td>\n",
       "      <td>https://www.nytimes.com/2017/03/31/opinion/ven...</td>\n",
       "    </tr>\n",
       "  </tbody>\n",
       "</table>\n",
       "</div>"
      ],
      "text/plain": [
       "  abstract                 articleID  articleWordCount  \\\n",
       "0      NaN  58def1347c459f24986d7c80               716   \n",
       "1      NaN  58def3237c459f24986d7c84               823   \n",
       "2      NaN  58def9f57c459f24986d7c90               575   \n",
       "\n",
       "                                byline documentType  \\\n",
       "0  By STEPHEN HILTNER and SUSAN LEHMAN      article   \n",
       "1                      By GAIL COLLINS      article   \n",
       "2               By THE EDITORIAL BOARD      article   \n",
       "\n",
       "                                            headline  \\\n",
       "0  Finding an Expansive View  of a Forgotten Peop...   \n",
       "1                  And Now,  the Dreaded Trump Curse   \n",
       "2              Venezuela’s Descent Into Dictatorship   \n",
       "\n",
       "                                            keywords  multimedia    newDesk  \\\n",
       "0  ['Photography', 'New York Times', 'Niger', 'Fe...           3    Insider   \n",
       "1  ['United States Politics and Government', 'Tru...           3       OpEd   \n",
       "2  ['Venezuela', 'Politics and Government', 'Madu...           3  Editorial   \n",
       "\n",
       "   printPage              pubDate sectionName  \\\n",
       "0          2  2017-04-01 00:15:41     Unknown   \n",
       "1         23  2017-04-01 00:23:58     Unknown   \n",
       "2         22  2017-04-01 00:53:06     Unknown   \n",
       "\n",
       "                                             snippet              source  \\\n",
       "0  One of the largest photo displays in Times his...  The New York Times   \n",
       "1                  Meet the gang from under the bus.  The New York Times   \n",
       "2  A court ruling annulling the legislature’s aut...  The New York Times   \n",
       "\n",
       "  typeOfMaterial                                             webURL  \n",
       "0           News  https://www.nytimes.com/2017/03/31/insider/nig...  \n",
       "1          Op-Ed  https://www.nytimes.com/2017/03/31/opinion/and...  \n",
       "2      Editorial  https://www.nytimes.com/2017/03/31/opinion/ven...  "
      ]
     },
     "execution_count": 3,
     "metadata": {},
     "output_type": "execute_result"
    }
   ],
   "source": [
    "# Inspect the first 5 rows of the dataframe\n",
    "df.head(3)"
   ]
  },
  {
   "cell_type": "code",
   "execution_count": 4,
   "id": "65ff3dd7",
   "metadata": {},
   "outputs": [],
   "source": [
    "# Remove columns from the article\n",
    "df = df.drop(columns =['abstract', 'articleID', 'articleWordCount','byline', 'documentType', 'headline','keywords','multimedia','newDesk','printPage','pubDate','sectionName','source','typeOfMaterial','webURL'], axis=1).sample(250)\n",
    "\n"
   ]
  },
  {
   "cell_type": "code",
   "execution_count": 5,
   "id": "ede5adc0",
   "metadata": {},
   "outputs": [
    {
     "data": {
      "text/html": [
       "<div>\n",
       "<style scoped>\n",
       "    .dataframe tbody tr th:only-of-type {\n",
       "        vertical-align: middle;\n",
       "    }\n",
       "\n",
       "    .dataframe tbody tr th {\n",
       "        vertical-align: top;\n",
       "    }\n",
       "\n",
       "    .dataframe thead th {\n",
       "        text-align: right;\n",
       "    }\n",
       "</style>\n",
       "<table border=\"1\" class=\"dataframe\">\n",
       "  <thead>\n",
       "    <tr style=\"text-align: right;\">\n",
       "      <th></th>\n",
       "      <th>snippet</th>\n",
       "    </tr>\n",
       "  </thead>\n",
       "  <tbody>\n",
       "    <tr>\n",
       "      <th>564</th>\n",
       "      <td>Liberals are discovering what conservatives ha...</td>\n",
       "    </tr>\n",
       "    <tr>\n",
       "      <th>53</th>\n",
       "      <td>Kate Hamill and Eric Tucker, the team behind 2...</td>\n",
       "    </tr>\n",
       "    <tr>\n",
       "      <th>368</th>\n",
       "      <td>Look closely at this image, stripped of its ca...</td>\n",
       "    </tr>\n",
       "  </tbody>\n",
       "</table>\n",
       "</div>"
      ],
      "text/plain": [
       "                                               snippet\n",
       "564  Liberals are discovering what conservatives ha...\n",
       "53   Kate Hamill and Eric Tucker, the team behind 2...\n",
       "368  Look closely at this image, stripped of its ca..."
      ]
     },
     "execution_count": 5,
     "metadata": {},
     "output_type": "execute_result"
    }
   ],
   "source": [
    "# Print out the first rows of articles\n",
    "df.head(3)"
   ]
  },
  {
   "cell_type": "code",
   "execution_count": 6,
   "id": "85ca53af",
   "metadata": {},
   "outputs": [
    {
     "data": {
      "text/plain": [
       "564    liberals are discovering what conservatives ha...\n",
       "53     kate hamill and eric tucker the team behind 20...\n",
       "368    look closely at this image stripped of its cap...\n",
       "26     did you happen to notice how much of the show ...\n",
       "707    moscow and its state-run news outlets are chur...\n",
       "Name: snippet_processed, dtype: object"
      ]
     },
     "execution_count": 6,
     "metadata": {},
     "output_type": "execute_result"
    }
   ],
   "source": [
    "# Remove lower case and punctuation\n",
    "\n",
    "import re\n",
    "\n",
    "df['snippet_processed'] = \\\n",
    "df['snippet'].map(lambda x: re.sub('[,\\.!?]', '', x))\n",
    "\n",
    "# Convert the titles to lowercase\n",
    "df['snippet_processed'] = \\\n",
    "df['snippet_processed'].map(lambda x: x.lower())\n",
    "\n",
    "# Print out the first rows of dataframe\n",
    "df['snippet_processed'].head()"
   ]
  },
  {
   "cell_type": "markdown",
   "id": "184539be",
   "metadata": {},
   "source": [
    "## Exploratory Data Analysis"
   ]
  },
  {
   "cell_type": "code",
   "execution_count": 7,
   "id": "30de039b",
   "metadata": {},
   "outputs": [
    {
     "name": "stdout",
     "output_type": "stream",
     "text": [
      "Requirement already satisfied: wordcloud in c:\\users\\wendy\\anaconda3\\lib\\site-packages (1.9.3)\n",
      "Requirement already satisfied: matplotlib in c:\\users\\wendy\\anaconda3\\lib\\site-packages (from wordcloud) (3.7.0)\n",
      "Requirement already satisfied: numpy>=1.6.1 in c:\\users\\wendy\\anaconda3\\lib\\site-packages (from wordcloud) (1.26.4)\n",
      "Requirement already satisfied: pillow in c:\\users\\wendy\\anaconda3\\lib\\site-packages (from wordcloud) (10.2.0)\n",
      "Requirement already satisfied: kiwisolver>=1.0.1 in c:\\users\\wendy\\anaconda3\\lib\\site-packages (from matplotlib->wordcloud) (1.4.4)\n",
      "Requirement already satisfied: contourpy>=1.0.1 in c:\\users\\wendy\\anaconda3\\lib\\site-packages (from matplotlib->wordcloud) (1.0.5)\n",
      "Requirement already satisfied: python-dateutil>=2.7 in c:\\users\\wendy\\anaconda3\\lib\\site-packages (from matplotlib->wordcloud) (2.8.2)\n",
      "Requirement already satisfied: fonttools>=4.22.0 in c:\\users\\wendy\\anaconda3\\lib\\site-packages (from matplotlib->wordcloud) (4.25.0)\n",
      "Requirement already satisfied: pyparsing>=2.3.1 in c:\\users\\wendy\\anaconda3\\lib\\site-packages (from matplotlib->wordcloud) (3.0.9)\n",
      "Requirement already satisfied: packaging>=20.0 in c:\\users\\wendy\\anaconda3\\lib\\site-packages (from matplotlib->wordcloud) (22.0)\n",
      "Requirement already satisfied: cycler>=0.10 in c:\\users\\wendy\\anaconda3\\lib\\site-packages (from matplotlib->wordcloud) (0.11.0)\n",
      "Requirement already satisfied: six>=1.5 in c:\\users\\wendy\\anaconda3\\lib\\site-packages (from python-dateutil>=2.7->matplotlib->wordcloud) (1.16.0)\n",
      "Note: you may need to restart the kernel to use updated packages.\n"
     ]
    }
   ],
   "source": [
    "pip install wordcloud"
   ]
  },
  {
   "cell_type": "code",
   "execution_count": 8,
   "id": "2abc1431",
   "metadata": {},
   "outputs": [
    {
     "data": {
      "image/jpeg": "[encoded data removed]",
      "image/png": "[encoded data removed]",
      "text/plain": [
       "<PIL.Image.Image image mode=RGB size=400x200>"
      ]
     },
     "execution_count": 8,
     "metadata": {},
     "output_type": "execute_result"
    }
   ],
   "source": [
    "# Import the wordcloud library\n",
    "from wordcloud import WordCloud\n",
    "\n",
    "# Join the processed articles together.\n",
    "long_string = ','.join(list(df['snippet_processed'].values))\n",
    "\n",
    "# Create a WordCloud object\n",
    "wordcloud = WordCloud(background_color=\"white\", max_words=5000, contour_width=3, contour_color='steelblue')\n",
    "\n",
    "# Generate a word cloud\n",
    "wordcloud.generate(long_string)\n",
    "\n",
    "# Visualize the word cloud\n",
    "wordcloud.to_image()"
   ]
  },
  {
   "cell_type": "markdown",
   "id": "c9c09957",
   "metadata": {},
   "source": [
    "## Pre-process the data for Latent Dirichlet Allocation\n"
   ]
  },
  {
   "cell_type": "code",
   "execution_count": 9,
   "id": "357e22f7",
   "metadata": {},
   "outputs": [
    {
     "name": "stdout",
     "output_type": "stream",
     "text": [
      "['liberals', 'discovering', 'conservatives', 'known', 'years', 'negative', 'energy', 'powerful', 'force']\n"
     ]
    },
    {
     "name": "stderr",
     "output_type": "stream",
     "text": [
      "[nltk_data] Downloading package stopwords to\n",
      "[nltk_data]     C:\\Users\\Wendy\\AppData\\Roaming\\nltk_data...\n",
      "[nltk_data]   Package stopwords is already up-to-date!\n"
     ]
    }
   ],
   "source": [
    "import gensim\n",
    "from gensim.utils import simple_preprocess\n",
    "import nltk\n",
    "\n",
    "nltk.download('stopwords')\n",
    "from nltk.corpus import stopwords\n",
    "\n",
    "stop_words = stopwords.words('english')\n",
    "stop_words.extend(['from', 'subject', 're', 'edu', 'use', 'but','and'])\n",
    "def sent_to_words(sentences):\n",
    "    for sentence in sentences:\n",
    "        # deacc=True removes punctuations\n",
    "        yield(gensim.utils.simple_preprocess(str(sentence), deacc=True))\n",
    "def remove_stopwords(texts):\n",
    "    return [[word for word in simple_preprocess(str(doc)) \n",
    "             if word not in stop_words] for doc in texts]\n",
    "data = df.snippet_processed.values.tolist()\n",
    "data_words = list(sent_to_words(data))\n",
    "\n",
    "# remove stop words\n",
    "data_words = remove_stopwords(data_words)\n",
    "print(data_words[:1][0][:30])"
   ]
  },
  {
   "cell_type": "code",
   "execution_count": 42,
   "id": "f6d0382b",
   "metadata": {},
   "outputs": [],
   "source": [
    "# export pre-processed file as a csv file\n",
    "\n",
    "df.to_csv('out.csv', index=False)  \n",
    "\n"
   ]
  },
  {
   "cell_type": "code",
   "execution_count": null,
   "id": "65534825",
   "metadata": {},
   "outputs": [],
   "source": []
  },
  {
   "cell_type": "code",
   "execution_count": 10,
   "id": "ed4249e9",
   "metadata": {},
   "outputs": [
    {
     "name": "stdout",
     "output_type": "stream",
     "text": [
      "[(0, 1), (1, 1), (2, 1), (3, 1), (4, 1), (5, 1), (6, 1), (7, 1), (8, 1)]\n"
     ]
    }
   ],
   "source": [
    "import gensim.corpora as corpora\n",
    "\n",
    "# Create Dictionary\n",
    "id2word = corpora.Dictionary(data_words)\n",
    "\n",
    "# Create Corpus\n",
    "texts = data_words\n",
    "\n",
    "# Term Document Frequency\n",
    "corpus = [id2word.doc2bow(text) for text in texts]\n",
    "\n",
    "# View\n",
    "print(corpus[:1][0][:30])"
   ]
  },
  {
   "cell_type": "markdown",
   "id": "a6a68adf",
   "metadata": {},
   "source": [
    "## Model training in LDA"
   ]
  },
  {
   "cell_type": "code",
   "execution_count": 11,
   "id": "b138f606",
   "metadata": {},
   "outputs": [
    {
     "name": "stdout",
     "output_type": "stream",
     "text": [
      "[(0,\n",
      "  '0.008*\"us\" + 0.008*\"care\" + 0.006*\"states\" + 0.006*\"president\" + '\n",
      "  '0.006*\"new\" + 0.006*\"york\" + 0.004*\"thought\" + 0.004*\"plan\" + 0.004*\"waive\" '\n",
      "  '+ 0.004*\"problems\"'),\n",
      " (1,\n",
      "  '0.011*\"new\" + 0.009*\"back\" + 0.007*\"college\" + 0.006*\"would\" + '\n",
      "  '0.005*\"makes\" + 0.005*\"deal\" + 0.005*\"two\" + 0.005*\"one\" + 0.005*\"cities\" + '\n",
      "  '0.005*\"administration\"'),\n",
      " (2,\n",
      "  '0.005*\"american\" + 0.005*\"good\" + 0.005*\"known\" + 0.005*\"comes\" + '\n",
      "  '0.005*\"next\" + 0.005*\"shows\" + 0.004*\"influence\" + 0.003*\"greeted\" + '\n",
      "  '0.003*\"seem\" + 0.003*\"uncooperative\"'),\n",
      " (3,\n",
      "  '0.010*\"first\" + 0.010*\"could\" + 0.007*\"us\" + 0.007*\"trump\" + '\n",
      "  '0.005*\"companies\" + 0.005*\"force\" + 0.005*\"run\" + 0.005*\"newly\" + '\n",
      "  '0.005*\"provide\" + 0.005*\"food\"'),\n",
      " (4,\n",
      "  '0.009*\"could\" + 0.006*\"would\" + 0.006*\"pay\" + 0.006*\"world\" + '\n",
      "  '0.006*\"century\" + 0.006*\"much\" + 0.006*\"mr\" + 0.005*\"new\" + 0.004*\"two\" + '\n",
      "  '0.004*\"said\"'),\n",
      " (5,\n",
      "  '0.012*\"one\" + 0.008*\"trump\" + 0.007*\"history\" + 0.006*\"french\" + '\n",
      "  '0.006*\"president\" + 0.005*\"government\" + 0.004*\"party\" + 0.004*\"strike\" + '\n",
      "  '0.004*\"way\" + 0.004*\"look\"'),\n",
      " (6,\n",
      "  '0.015*\"new\" + 0.008*\"york\" + 0.008*\"old\" + 0.007*\"president\" + '\n",
      "  '0.005*\"musical\" + 0.005*\"thursday\" + 0.005*\"set\" + 0.005*\"taking\" + '\n",
      "  '0.005*\"events\" + 0.005*\"may\"'),\n",
      " (7,\n",
      "  '0.009*\"trump\" + 0.009*\"new\" + 0.008*\"administration\" + 0.005*\"took\" + '\n",
      "  '0.005*\"game\" + 0.005*\"supreme\" + 0.005*\"becomes\" + 0.005*\"stranger\" + '\n",
      "  '0.005*\"year\" + 0.005*\"american\"'),\n",
      " (8,\n",
      "  '0.011*\"trump\" + 0.010*\"president\" + 0.007*\"need\" + 0.005*\"money\" + '\n",
      "  '0.005*\"election\" + 0.005*\"take\" + 0.005*\"say\" + 0.005*\"us\" + 0.005*\"place\" '\n",
      "  '+ 0.005*\"better\"'),\n",
      " (9,\n",
      "  '0.008*\"say\" + 0.007*\"one\" + 0.006*\"show\" + 0.006*\"time\" + 0.005*\"power\" + '\n",
      "  '0.005*\"al\" + 0.004*\"officials\" + 0.004*\"get\" + 0.004*\"new\" + 0.004*\"first\"')]\n"
     ]
    }
   ],
   "source": [
    "from pprint import pprint\n",
    "\n",
    "# number of topics\n",
    "num_topics = 10\n",
    "\n",
    "# Build LDA model\n",
    "lda_model = gensim.models.LdaMulticore(corpus=corpus,\n",
    "                                       id2word=id2word,\n",
    "                                       num_topics=num_topics)\n",
    "# Print the Keyword in the 10 topics\n",
    "pprint(lda_model.print_topics())\n",
    "doc_lda = lda_model[corpus]"
   ]
  },
  {
   "cell_type": "markdown",
   "id": "795fb0cd",
   "metadata": {},
   "source": [
    "## Analyze LDA results"
   ]
  },
  {
   "cell_type": "code",
   "execution_count": 12,
   "id": "7934ae02",
   "metadata": {},
   "outputs": [],
   "source": [
    "# Use CountVectorizer to create a bag-of-words matrix and set the mazimum document frequency of words to be 10%\n",
    "\n",
    "from sklearn.feature_extraction.text import CountVectorizer\n",
    "count = CountVectorizer(stop_words ='english' \n",
    "                        ,max_df=.1\n",
    "                        ,max_features = 5000)\n",
    "X = count.fit_transform(df['snippet'].values)\n"
   ]
  },
  {
   "cell_type": "code",
   "execution_count": 13,
   "id": "d8611723",
   "metadata": {},
   "outputs": [],
   "source": [
    "# Fit LDA estimator to bag of words matrix\n",
    "\n",
    "from sklearn.decomposition import LatentDirichletAllocation\n",
    "lda = LatentDirichletAllocation(n_components=10\n",
    "                                ,random_state=123\n",
    "                                ,learning_method = 'batch')\n",
    "X_topics =lda.fit_transform(X)"
   ]
  },
  {
   "cell_type": "code",
   "execution_count": 14,
   "id": "64034524",
   "metadata": {},
   "outputs": [
    {
     "data": {
      "text/plain": [
       "array([[0.90999538, 0.01000072, 0.01000055, ..., 0.01000014, 0.01000086,\n",
       "        0.01000146],\n",
       "       [0.00666667, 0.00666677, 0.0066668 , ..., 0.00666678, 0.00666667,\n",
       "        0.00666667],\n",
       "       [0.01      , 0.01000011, 0.0100002 , ..., 0.01      , 0.01      ,\n",
       "        0.90999957],\n",
       "       ...,\n",
       "       [0.01111137, 0.01111152, 0.01111132, ..., 0.0111116 , 0.01111127,\n",
       "        0.89999754],\n",
       "       [0.00370389, 0.00370395, 0.96666529, ..., 0.003704  , 0.00370376,\n",
       "        0.00370371],\n",
       "       [0.87141255, 0.01428996, 0.01428856, ..., 0.0142883 , 0.01428761,\n",
       "        0.01428908]])"
      ]
     },
     "execution_count": 14,
     "metadata": {},
     "output_type": "execute_result"
    }
   ],
   "source": [
    "# fit lda\n",
    "\n",
    "X_topics"
   ]
  },
  {
   "cell_type": "code",
   "execution_count": 15,
   "id": "9cbb19c3",
   "metadata": {},
   "outputs": [
    {
     "data": {
      "text/plain": [
       "array([[1.1       , 0.1       , 0.1       , ..., 0.1       , 0.1       ,\n",
       "        0.1       ],\n",
       "       [0.1       , 0.1       , 1.10001118, ..., 0.1       , 0.1       ,\n",
       "        0.1       ],\n",
       "       [0.1       , 1.10000175, 1.09998939, ..., 0.1       , 0.1       ,\n",
       "        0.1       ],\n",
       "       ...,\n",
       "       [0.1       , 1.09999825, 0.1       , ..., 0.1       , 1.1       ,\n",
       "        0.1       ],\n",
       "       [0.1       , 0.1       , 1.09999942, ..., 0.1       , 0.1       ,\n",
       "        0.1       ],\n",
       "       [0.1       , 0.1       , 0.1       , ..., 0.1       , 0.1       ,\n",
       "        0.1       ]])"
      ]
     },
     "execution_count": 15,
     "metadata": {},
     "output_type": "execute_result"
    }
   ],
   "source": [
    "# View the components of the lda instance \n",
    "lda.components_"
   ]
  },
  {
   "cell_type": "code",
   "execution_count": 16,
   "id": "560930ff",
   "metadata": {},
   "outputs": [
    {
     "data": {
      "text/plain": [
       "(10, 1786)"
      ]
     },
     "execution_count": 16,
     "metadata": {},
     "output_type": "execute_result"
    }
   ],
   "source": [
    "lda.components_.shape"
   ]
  },
  {
   "cell_type": "code",
   "execution_count": 17,
   "id": "801dbed1",
   "metadata": {},
   "outputs": [],
   "source": [
    "# For each topic (a row in the components_), sort the features ascending\n",
    "# Invert rows with [:,::-1] to make descending\n",
    "sorting =np.argsort(lda.components_,axis=1)[:,::-1]\n",
    "\n",
    "# Get the feature names of the vectorizer\n",
    "feature_names =np.array(count.get_feature_names_out())"
   ]
  },
  {
   "cell_type": "code",
   "execution_count": 18,
   "id": "780a317d",
   "metadata": {},
   "outputs": [
    {
     "name": "stdout",
     "output_type": "stream",
     "text": [
      "Requirement already satisfied: mglearn in c:\\users\\wendy\\anaconda3\\lib\\site-packages (0.2.0)\n",
      "Requirement already satisfied: imageio in c:\\users\\wendy\\anaconda3\\lib\\site-packages (from mglearn) (2.26.0)\n",
      "Requirement already satisfied: matplotlib in c:\\users\\wendy\\anaconda3\\lib\\site-packages (from mglearn) (3.7.0)\n",
      "Requirement already satisfied: cycler in c:\\users\\wendy\\anaconda3\\lib\\site-packages (from mglearn) (0.11.0)\n",
      "Requirement already satisfied: pandas in c:\\users\\wendy\\anaconda3\\lib\\site-packages (from mglearn) (2.2.1)\n",
      "Requirement already satisfied: scikit-learn in c:\\users\\wendy\\anaconda3\\lib\\site-packages (from mglearn) (1.2.1)\n",
      "Requirement already satisfied: joblib in c:\\users\\wendy\\anaconda3\\lib\\site-packages (from mglearn) (1.3.2)\n",
      "Requirement already satisfied: pillow in c:\\users\\wendy\\anaconda3\\lib\\site-packages (from mglearn) (10.2.0)\n",
      "Requirement already satisfied: numpy in c:\\users\\wendy\\anaconda3\\lib\\site-packages (from mglearn) (1.26.4)\n",
      "Requirement already satisfied: kiwisolver>=1.0.1 in c:\\users\\wendy\\anaconda3\\lib\\site-packages (from matplotlib->mglearn) (1.4.4)\n",
      "Requirement already satisfied: pyparsing>=2.3.1 in c:\\users\\wendy\\anaconda3\\lib\\site-packages (from matplotlib->mglearn) (3.0.9)\n",
      "Requirement already satisfied: python-dateutil>=2.7 in c:\\users\\wendy\\anaconda3\\lib\\site-packages (from matplotlib->mglearn) (2.8.2)\n",
      "Requirement already satisfied: contourpy>=1.0.1 in c:\\users\\wendy\\anaconda3\\lib\\site-packages (from matplotlib->mglearn) (1.0.5)\n",
      "Requirement already satisfied: fonttools>=4.22.0 in c:\\users\\wendy\\anaconda3\\lib\\site-packages (from matplotlib->mglearn) (4.25.0)\n",
      "Requirement already satisfied: packaging>=20.0 in c:\\users\\wendy\\anaconda3\\lib\\site-packages (from matplotlib->mglearn) (22.0)\n",
      "Requirement already satisfied: pytz>=2020.1 in c:\\users\\wendy\\anaconda3\\lib\\site-packages (from pandas->mglearn) (2022.7)\n",
      "Requirement already satisfied: tzdata>=2022.7 in c:\\users\\wendy\\anaconda3\\lib\\site-packages (from pandas->mglearn) (2024.1)\n",
      "Requirement already satisfied: scipy>=1.3.2 in c:\\users\\wendy\\anaconda3\\lib\\site-packages (from scikit-learn->mglearn) (1.10.0)\n",
      "Requirement already satisfied: threadpoolctl>=2.0.0 in c:\\users\\wendy\\anaconda3\\lib\\site-packages (from scikit-learn->mglearn) (2.2.0)\n",
      "Requirement already satisfied: six>=1.5 in c:\\users\\wendy\\anaconda3\\lib\\site-packages (from python-dateutil>=2.7->matplotlib->mglearn) (1.16.0)\n",
      "Note: you may need to restart the kernel to use updated packages.\n"
     ]
    }
   ],
   "source": [
    "pip install mglearn"
   ]
  },
  {
   "cell_type": "code",
   "execution_count": 20,
   "id": "9885965b",
   "metadata": {},
   "outputs": [
    {
     "name": "stdout",
     "output_type": "stream",
     "text": [
      "topic 0       topic 1       topic 2       topic 3       topic 4       \n",
      "--------      --------      --------      --------      --------      \n",
      "federal       just          new           trump         president     \n",
      "administrationnew           8217          president     like          \n",
      "trump         days          york          mr            team          \n",
      "health        old           need          making        new           \n",
      "police        trump         trump         states        war           \n",
      "state         say           times         events        good          \n",
      "york          people        president     tax           social        \n",
      "game          run           right         administrationsecurity      \n",
      "came          college       know          place         rest          \n",
      "california    companies     party         state         russia        \n",
      "\n",
      "\n",
      "topic 5       topic 6       topic 7       topic 8       topic 9       \n",
      "--------      --------      --------      --------      --------      \n",
      "way           said          new           american      world         \n",
      "like          al            york          time          getting       \n",
      "children      trump         house         president     people        \n",
      "tour          work          makes         years         students      \n",
      "republican    power         trump         election      energy        \n",
      "world         middle        say           just          join          \n",
      "democrats     syrian        people        presidential  look          \n",
      "brain         east          white         cities        free          \n",
      "care          pay           president     man           moderated     \n",
      "rules         government    party         major         closely       \n",
      "\n",
      "\n"
     ]
    }
   ],
   "source": [
    "# Print out the 10 topics:\n",
    "import mglearn\n",
    "\n",
    "mglearn.tools.print_topics(topics=range(10),feature_names=feature_names,\n",
    "                          sorting=sorting, topics_per_chunk=5, n_words=10)"
   ]
  },
  {
   "cell_type": "code",
   "execution_count": null,
   "id": "b3db3af2",
   "metadata": {},
   "outputs": [],
   "source": []
  },
  {
   "cell_type": "code",
   "execution_count": null,
   "id": "191497e4",
   "metadata": {},
   "outputs": [],
   "source": []
  },
  {
   "cell_type": "code",
   "execution_count": 43,
   "id": "c1793f1f",
   "metadata": {},
   "outputs": [
    {
     "name": "stdout",
     "output_type": "stream",
     "text": [
      "Topic 1:\n",
      "federal administration trump health police\n",
      "Topic 2:\n",
      "just new days old trump\n",
      "Topic 3:\n",
      "new 8217 york need trump\n",
      "Topic 4:\n",
      "trump president mr making states\n",
      "Topic 5:\n",
      "president like team new war\n",
      "Topic 6:\n",
      "way like children tour republican\n",
      "Topic 7:\n",
      "said al trump work power\n",
      "Topic 8:\n",
      "new york house makes trump\n",
      "Topic 9:\n",
      "american time president years election\n",
      "Topic 10:\n",
      "world getting people students energy\n"
     ]
    }
   ],
   "source": [
    "# Look at the 5 most important words for each of the topics\n",
    "\n",
    "n_top_words = 5\n",
    "feature_names = count.get_feature_names_out()\n",
    "for topic_idx, topic in enumerate(lda.components_):\n",
    "    print(\"Topic %d:\" % (topic_idx + 1))\n",
    "    print(\" \".join([feature_names[i]\n",
    "                    for i in topic.argsort()\\\n",
    "                        [:-n_top_words - 1:-1]]))\n"
   ]
  },
  {
   "cell_type": "code",
   "execution_count": null,
   "id": "2e6f7ce4",
   "metadata": {},
   "outputs": [],
   "source": []
  }
 ],
 "metadata": {
  "kernelspec": {
   "display_name": "Python 3 (ipykernel)",
   "language": "python",
   "name": "python3"
  },
  "language_info": {
   "codemirror_mode": {
    "name": "ipython",
    "version": 3
   },
   "file_extension": ".py",
   "mimetype": "text/x-python",
   "name": "python",
   "nbconvert_exporter": "python",
   "pygments_lexer": "ipython3",
   "version": "3.10.9"
  }
 },
 "nbformat": 4,
 "nbformat_minor": 5
}
