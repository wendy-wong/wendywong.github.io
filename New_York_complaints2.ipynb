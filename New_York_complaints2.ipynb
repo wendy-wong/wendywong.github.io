{
 "cells": [
  {
   "cell_type": "markdown",
   "metadata": {
    "slideshow": {
     "slide_type": "slide"
    }
   },
   "source": [
    "# City of New York Complaint Problems"
   ]
  },
  {
   "cell_type": "markdown",
   "metadata": {
    "slideshow": {
     "slide_type": "slide"
    }
   },
   "source": [
    "## Data Source\n",
    "\n",
    "* City of New York complaint problems dataset is publicly available from the website data.gov via the link:\n",
    "\n",
    "https://catalog.data.gov/dataset/complaint-problems-7052e\n",
    "\n",
    "* Data published by: data.cityofnewyork.us\n",
    "* Data last updated: 6 September 2019"
   ]
  },
  {
   "cell_type": "markdown",
   "metadata": {
    "slideshow": {
     "slide_type": "slide"
    }
   },
   "source": [
    "## Data Dictionary\n",
    "\n",
    "#### There were 18 variables within the data set with 1045040 rows \n",
    "\n",
    "* ProblemID\n",
    "* ComplaintID\n",
    "* UnitTypeID\n",
    "* UnitType\n",
    "* SpaceTypeID \n",
    "* SpaceType\n",
    "* TypeID\n",
    "* Type\n",
    "* MajorCategoryID\n",
    "* MajorCategory\n",
    "* MinorCategoryID\n",
    "* MinorCategory\n",
    "* CodeID\n",
    "* Code\n",
    "* StatusID\n",
    "* Status\n",
    "* StatusDate\n",
    "* StatusDescription\n",
    "\n",
    "### Tasks:\n",
    "\n",
    "#### 1. Insights from the dataset \n",
    "* Exploratory Data Analysis\n",
    "\n",
    "#### 2. Build a machine learning model that performs MultiClass classification to predict the outcome of complaint type\n",
    "* Type: 1=EMERGENCY 2=HARZARDOUS 3=IMMEDIATE EMERGENCY 4=NON EMERGENCY \n",
    "* StatusDescription\n",
    "* UnitType\n",
    "* SpaceType\n",
    "* MajorCategory\n",
    "* MinorCategory\n",
    "* Code\n",
    "* Status\n",
    "* StatusDate\n"
   ]
  },
  {
   "cell_type": "markdown",
   "metadata": {
    "slideshow": {
     "slide_type": "slide"
    }
   },
   "source": [
    "## Problem Statements \n",
    "\n",
    "* 1. Uncover the key topics from the complaint status description and,\n",
    "* 2. Exploratory Data Analysis\n",
    "* 3. Classify New York City complaints  types into 4 pre-defined classes. \n",
    "- The problem is supervised multiclass text classification problem, and the task is to investigate which supervised machine learning method is best suited to solve it.\n",
    "- Given a new complaint comes in, we want to assign it to one of 4 categories. The classifier makes the assumption that each new complaint is assigned to one and only one category. "
   ]
  },
  {
   "cell_type": "markdown",
   "metadata": {
    "slideshow": {
     "slide_type": "slide"
    }
   },
   "source": [
    "## Import Modules"
   ]
  },
  {
   "cell_type": "code",
   "execution_count": 1,
   "metadata": {
    "slideshow": {
     "slide_type": "slide"
    }
   },
   "outputs": [],
   "source": [
    "import numpy as np\n",
    "import pandas as pd\n",
    "import statsmodels.api as sm\n",
    "import matplotlib.pyplot as plt\n",
    "from patsy import dmatrices\n",
    "from sklearn.linear_model import LogisticRegression\n",
    "from sklearn import metrics\n",
    "\n",
    "from sklearn import datasets\n",
    "import statsmodels.formula.api as smf\n",
    "import matplotlib.cm as cm\n",
    "import statsmodels.api as sm\n",
    "\n",
    "# Show plots inside a notebook\n",
    "%matplotlib inline\n",
    "\n",
    "import matplotlib.pyplot as plt\n",
    "import seaborn as sb"
   ]
  },
  {
   "cell_type": "code",
   "execution_count": 2,
   "metadata": {
    "slideshow": {
     "slide_type": "slide"
    }
   },
   "outputs": [
    {
     "data": {
      "text/html": [
       "<div>\n",
       "<style scoped>\n",
       "    .dataframe tbody tr th:only-of-type {\n",
       "        vertical-align: middle;\n",
       "    }\n",
       "\n",
       "    .dataframe tbody tr th {\n",
       "        vertical-align: top;\n",
       "    }\n",
       "\n",
       "    .dataframe thead th {\n",
       "        text-align: right;\n",
       "    }\n",
       "</style>\n",
       "<table border=\"1\" class=\"dataframe\">\n",
       "  <thead>\n",
       "    <tr style=\"text-align: right;\">\n",
       "      <th></th>\n",
       "      <th>ProblemID</th>\n",
       "      <th>ComplaintID</th>\n",
       "      <th>UnitTypeID</th>\n",
       "      <th>UnitType</th>\n",
       "      <th>SpaceTypeID</th>\n",
       "      <th>SpaceType</th>\n",
       "      <th>TypeID</th>\n",
       "      <th>Type</th>\n",
       "      <th>MajorCategoryID</th>\n",
       "      <th>MajorCategory</th>\n",
       "      <th>MinorCategoryID</th>\n",
       "      <th>MinorCategory</th>\n",
       "      <th>CodeID</th>\n",
       "      <th>Code</th>\n",
       "      <th>StatusID</th>\n",
       "      <th>Status</th>\n",
       "      <th>StatusDate</th>\n",
       "      <th>StatusDescription</th>\n",
       "    </tr>\n",
       "  </thead>\n",
       "  <tbody>\n",
       "    <tr>\n",
       "      <td>0</td>\n",
       "      <td>17307278</td>\n",
       "      <td>8412850</td>\n",
       "      <td>91</td>\n",
       "      <td>APARTMENT</td>\n",
       "      <td>543</td>\n",
       "      <td>ENTIRE APARTMENT</td>\n",
       "      <td>1</td>\n",
       "      <td>EMERGENCY</td>\n",
       "      <td>56</td>\n",
       "      <td>DOOR/WINDOW</td>\n",
       "      <td>337</td>\n",
       "      <td>WINDOW FRAME</td>\n",
       "      <td>2836</td>\n",
       "      <td>LOOSE OR DEFECTIVE</td>\n",
       "      <td>2</td>\n",
       "      <td>CLOSE</td>\n",
       "      <td>03/31/2017</td>\n",
       "      <td>The Department of Housing Preservation and Dev...</td>\n",
       "    </tr>\n",
       "    <tr>\n",
       "      <td>1</td>\n",
       "      <td>17317058</td>\n",
       "      <td>8417365</td>\n",
       "      <td>91</td>\n",
       "      <td>APARTMENT</td>\n",
       "      <td>543</td>\n",
       "      <td>ENTIRE APARTMENT</td>\n",
       "      <td>3</td>\n",
       "      <td>NON EMERGENCY</td>\n",
       "      <td>63</td>\n",
       "      <td>UNSANITARY CONDITION</td>\n",
       "      <td>376</td>\n",
       "      <td>PESTS</td>\n",
       "      <td>2821</td>\n",
       "      <td>MICE</td>\n",
       "      <td>2</td>\n",
       "      <td>CLOSE</td>\n",
       "      <td>03/16/2017</td>\n",
       "      <td>The Department of Housing Preservation and Dev...</td>\n",
       "    </tr>\n",
       "    <tr>\n",
       "      <td>2</td>\n",
       "      <td>17016467</td>\n",
       "      <td>8249017</td>\n",
       "      <td>91</td>\n",
       "      <td>APARTMENT</td>\n",
       "      <td>545</td>\n",
       "      <td>ENTRANCE/FOYER</td>\n",
       "      <td>1</td>\n",
       "      <td>EMERGENCY</td>\n",
       "      <td>56</td>\n",
       "      <td>DOOR/WINDOW</td>\n",
       "      <td>333</td>\n",
       "      <td>DOOR</td>\n",
       "      <td>2665</td>\n",
       "      <td>LOCK BROKEN OR MISSING</td>\n",
       "      <td>2</td>\n",
       "      <td>CLOSE</td>\n",
       "      <td>03/03/2017</td>\n",
       "      <td>The Department of Housing Preservation and Dev...</td>\n",
       "    </tr>\n",
       "    <tr>\n",
       "      <td>3</td>\n",
       "      <td>14548958</td>\n",
       "      <td>6967900</td>\n",
       "      <td>91</td>\n",
       "      <td>APARTMENT</td>\n",
       "      <td>541</td>\n",
       "      <td>BATHROOM</td>\n",
       "      <td>1</td>\n",
       "      <td>EMERGENCY</td>\n",
       "      <td>9</td>\n",
       "      <td>PLUMBING</td>\n",
       "      <td>63</td>\n",
       "      <td>BATHTUB/SHOWER</td>\n",
       "      <td>2538</td>\n",
       "      <td>BROKEN OR MISSING</td>\n",
       "      <td>2</td>\n",
       "      <td>CLOSE</td>\n",
       "      <td>07/29/2014</td>\n",
       "      <td>The Department of Housing Preservation and De...</td>\n",
       "    </tr>\n",
       "    <tr>\n",
       "      <td>4</td>\n",
       "      <td>14548959</td>\n",
       "      <td>6967900</td>\n",
       "      <td>91</td>\n",
       "      <td>APARTMENT</td>\n",
       "      <td>541</td>\n",
       "      <td>BATHROOM</td>\n",
       "      <td>3</td>\n",
       "      <td>NON EMERGENCY</td>\n",
       "      <td>9</td>\n",
       "      <td>PLUMBING</td>\n",
       "      <td>63</td>\n",
       "      <td>BATHTUB/SHOWER</td>\n",
       "      <td>2540</td>\n",
       "      <td>FAUCET BROKEN/MISSING/LEAKING</td>\n",
       "      <td>2</td>\n",
       "      <td>CLOSE</td>\n",
       "      <td>08/04/2014</td>\n",
       "      <td>The Department of Housing Preservation and De...</td>\n",
       "    </tr>\n",
       "  </tbody>\n",
       "</table>\n",
       "</div>"
      ],
      "text/plain": [
       "   ProblemID  ComplaintID  UnitTypeID   UnitType  SpaceTypeID   \\\n",
       "0   17307278      8412850          91  APARTMENT           543   \n",
       "1   17317058      8417365          91  APARTMENT           543   \n",
       "2   17016467      8249017          91  APARTMENT           545   \n",
       "3   14548958      6967900          91  APARTMENT           541   \n",
       "4   14548959      6967900          91  APARTMENT           541   \n",
       "\n",
       "          SpaceType  TypeID           Type  MajorCategoryID  \\\n",
       "0  ENTIRE APARTMENT       1      EMERGENCY               56   \n",
       "1  ENTIRE APARTMENT       3  NON EMERGENCY               63   \n",
       "2    ENTRANCE/FOYER       1      EMERGENCY               56   \n",
       "3          BATHROOM       1      EMERGENCY                9   \n",
       "4          BATHROOM       3  NON EMERGENCY                9   \n",
       "\n",
       "          MajorCategory  MinorCategoryID   MinorCategory  CodeID  \\\n",
       "0           DOOR/WINDOW              337    WINDOW FRAME    2836   \n",
       "1  UNSANITARY CONDITION              376           PESTS    2821   \n",
       "2           DOOR/WINDOW              333            DOOR    2665   \n",
       "3              PLUMBING               63  BATHTUB/SHOWER    2538   \n",
       "4              PLUMBING               63  BATHTUB/SHOWER    2540   \n",
       "\n",
       "                            Code  StatusID Status  StatusDate  \\\n",
       "0             LOOSE OR DEFECTIVE         2  CLOSE  03/31/2017   \n",
       "1                           MICE         2  CLOSE  03/16/2017   \n",
       "2         LOCK BROKEN OR MISSING         2  CLOSE  03/03/2017   \n",
       "3              BROKEN OR MISSING         2  CLOSE  07/29/2014   \n",
       "4  FAUCET BROKEN/MISSING/LEAKING         2  CLOSE  08/04/2014   \n",
       "\n",
       "                                   StatusDescription  \n",
       "0  The Department of Housing Preservation and Dev...  \n",
       "1  The Department of Housing Preservation and Dev...  \n",
       "2  The Department of Housing Preservation and Dev...  \n",
       "3   The Department of Housing Preservation and De...  \n",
       "4   The Department of Housing Preservation and De...  "
      ]
     },
     "execution_count": 2,
     "metadata": {},
     "output_type": "execute_result"
    }
   ],
   "source": [
    "## Load the data into a Pandas Dataframe from csv file\n",
    "import pandas as pd\n",
    "df = pd.read_csv('Complaint_Problems.csv')\n",
    "#### Inspect the first 5 values of the dataset\n",
    "df.head()"
   ]
  },
  {
   "cell_type": "code",
   "execution_count": 3,
   "metadata": {
    "slideshow": {
     "slide_type": "slide"
    }
   },
   "outputs": [
    {
     "data": {
      "text/html": [
       "<div>\n",
       "<style scoped>\n",
       "    .dataframe tbody tr th:only-of-type {\n",
       "        vertical-align: middle;\n",
       "    }\n",
       "\n",
       "    .dataframe tbody tr th {\n",
       "        vertical-align: top;\n",
       "    }\n",
       "\n",
       "    .dataframe thead th {\n",
       "        text-align: right;\n",
       "    }\n",
       "</style>\n",
       "<table border=\"1\" class=\"dataframe\">\n",
       "  <thead>\n",
       "    <tr style=\"text-align: right;\">\n",
       "      <th></th>\n",
       "      <th>MajorCategory</th>\n",
       "      <th>Code</th>\n",
       "      <th>Status</th>\n",
       "      <th>StatusDate</th>\n",
       "      <th>Type</th>\n",
       "      <th>MinorCategory</th>\n",
       "    </tr>\n",
       "  </thead>\n",
       "  <tbody>\n",
       "    <tr>\n",
       "      <td>0</td>\n",
       "      <td>DOOR/WINDOW</td>\n",
       "      <td>LOOSE OR DEFECTIVE</td>\n",
       "      <td>CLOSE</td>\n",
       "      <td>03/31/2017</td>\n",
       "      <td>EMERGENCY</td>\n",
       "      <td>WINDOW FRAME</td>\n",
       "    </tr>\n",
       "    <tr>\n",
       "      <td>1</td>\n",
       "      <td>UNSANITARY CONDITION</td>\n",
       "      <td>MICE</td>\n",
       "      <td>CLOSE</td>\n",
       "      <td>03/16/2017</td>\n",
       "      <td>NON EMERGENCY</td>\n",
       "      <td>PESTS</td>\n",
       "    </tr>\n",
       "    <tr>\n",
       "      <td>2</td>\n",
       "      <td>DOOR/WINDOW</td>\n",
       "      <td>LOCK BROKEN OR MISSING</td>\n",
       "      <td>CLOSE</td>\n",
       "      <td>03/03/2017</td>\n",
       "      <td>EMERGENCY</td>\n",
       "      <td>DOOR</td>\n",
       "    </tr>\n",
       "    <tr>\n",
       "      <td>3</td>\n",
       "      <td>PLUMBING</td>\n",
       "      <td>BROKEN OR MISSING</td>\n",
       "      <td>CLOSE</td>\n",
       "      <td>07/29/2014</td>\n",
       "      <td>EMERGENCY</td>\n",
       "      <td>BATHTUB/SHOWER</td>\n",
       "    </tr>\n",
       "    <tr>\n",
       "      <td>4</td>\n",
       "      <td>PLUMBING</td>\n",
       "      <td>FAUCET BROKEN/MISSING/LEAKING</td>\n",
       "      <td>CLOSE</td>\n",
       "      <td>08/04/2014</td>\n",
       "      <td>NON EMERGENCY</td>\n",
       "      <td>BATHTUB/SHOWER</td>\n",
       "    </tr>\n",
       "  </tbody>\n",
       "</table>\n",
       "</div>"
      ],
      "text/plain": [
       "          MajorCategory                           Code Status  StatusDate  \\\n",
       "0           DOOR/WINDOW             LOOSE OR DEFECTIVE  CLOSE  03/31/2017   \n",
       "1  UNSANITARY CONDITION                           MICE  CLOSE  03/16/2017   \n",
       "2           DOOR/WINDOW         LOCK BROKEN OR MISSING  CLOSE  03/03/2017   \n",
       "3              PLUMBING              BROKEN OR MISSING  CLOSE  07/29/2014   \n",
       "4              PLUMBING  FAUCET BROKEN/MISSING/LEAKING  CLOSE  08/04/2014   \n",
       "\n",
       "            Type   MinorCategory  \n",
       "0      EMERGENCY    WINDOW FRAME  \n",
       "1  NON EMERGENCY           PESTS  \n",
       "2      EMERGENCY            DOOR  \n",
       "3      EMERGENCY  BATHTUB/SHOWER  \n",
       "4  NON EMERGENCY  BATHTUB/SHOWER  "
      ]
     },
     "execution_count": 3,
     "metadata": {},
     "output_type": "execute_result"
    }
   ],
   "source": [
    "## Exploratory Data Analysis\n",
    "\n",
    "#### Create a new dataframe forexploratory data analysis\n",
    "\n",
    "df2 = df[['MajorCategory','Code','Status','StatusDate', 'Type', 'MinorCategory']]\n",
    "\n",
    "df2.head()"
   ]
  },
  {
   "cell_type": "code",
   "execution_count": 4,
   "metadata": {
    "slideshow": {
     "slide_type": "slide"
    }
   },
   "outputs": [
    {
     "data": {
      "text/plain": [
       "(3381340,)"
      ]
     },
     "execution_count": 4,
     "metadata": {},
     "output_type": "execute_result"
    }
   ],
   "source": [
    "y = df2['Type'].values\n",
    "y.shape"
   ]
  },
  {
   "cell_type": "code",
   "execution_count": 5,
   "metadata": {
    "slideshow": {
     "slide_type": "slide"
    }
   },
   "outputs": [
    {
     "data": {
      "text/plain": [
       "array(['EMERGENCY', 'HAZARDOUS', 'IMMEDIATE EMERGENCY', 'NON EMERGENCY'],\n",
       "      dtype=object)"
      ]
     },
     "execution_count": 5,
     "metadata": {},
     "output_type": "execute_result"
    }
   ],
   "source": [
    "## Class label encoding - Transform categorical variables for Machine Learning\n",
    "#### Encode class labels\n",
    "\n",
    "from sklearn.preprocessing import LabelEncoder\n",
    "\n",
    "l_encoder = LabelEncoder()\n",
    "l_encoder.fit(y)\n",
    "l_encoder.classes_"
   ]
  },
  {
   "cell_type": "code",
   "execution_count": 6,
   "metadata": {
    "slideshow": {
     "slide_type": "slide"
    }
   },
   "outputs": [
    {
     "data": {
      "text/plain": [
       "array([0, 1, 2, 3])"
      ]
     },
     "execution_count": 6,
     "metadata": {},
     "output_type": "execute_result"
    }
   ],
   "source": [
    "y_enc = l_encoder.transform(y)\n",
    "np.unique(y_enc)"
   ]
  },
  {
   "cell_type": "code",
   "execution_count": 10,
   "metadata": {
    "slideshow": {
     "slide_type": "slide"
    }
   },
   "outputs": [
    {
     "data": {
      "text/plain": [
       "array(['EMERGENCY', 'HAZARDOUS', 'IMMEDIATE EMERGENCY', 'NON EMERGENCY'],\n",
       "      dtype=object)"
      ]
     },
     "execution_count": 10,
     "metadata": {},
     "output_type": "execute_result"
    }
   ],
   "source": [
    "np.unique(l_encoder.inverse_transform(y_enc))"
   ]
  },
  {
   "cell_type": "code",
   "execution_count": 11,
   "metadata": {
    "slideshow": {
     "slide_type": "slide"
    }
   },
   "outputs": [
    {
     "data": {
      "text/plain": [
       "{'EMERGENCY': 0, 'NON EMERGENCY': 1, 'IMMEDIATE EMERGENCY': 2, 'HARZARDOUS': 3}"
      ]
     },
     "execution_count": 11,
     "metadata": {},
     "output_type": "execute_result"
    }
   ],
   "source": [
    "# Use Scikit-learn estimators for classification convert labels to integers internally\n",
    "# we enumerate the class labels starting at 0:\n",
    "\n",
    "import numpy as np\n",
    "\n",
    "MajorCategory_mapping = {label:idx for idx,label in\n",
    "                enumerate(np.unique(df2['MajorCategory']))}\n",
    "MajorCategory_mapping\n",
    "{'DOOR/WINDOW':0,'UNSANITARY CONDITION':1,'PLUMBING':2,'FLOORING/STAIRS':3,'HEAT/HOT WATER':4,'PAINT/PLASTER':5, 'ELECTRIC':6, 'GENERAL':7, 'WATER LEAK':8,'APPLIANCE':9, 'NONCONST':10, 'OUTSIDE BUILDING':11,'SAFETY':12,'HEATING':13, 'ELEVATOR':14, 'CONSTRUCTION':15}  \n",
    "\n",
    "Status_mapping = {label:idx for idx,label in\n",
    "                enumerate(np.unique(df2['Status']))}\n",
    "Status_mapping\n",
    "{'CLOSE':0,'OPEN':1}\n",
    "\n",
    "Type_mapping = {label:idx for idx,label in\n",
    "                enumerate(np.unique(df2['Type']))}\n",
    "Type_mapping\n",
    "{'EMERGENCY':0,'NON EMERGENCY':1, 'IMMEDIATE EMERGENCY':2, 'HARZARDOUS':3}"
   ]
  },
  {
   "cell_type": "code",
   "execution_count": 12,
   "metadata": {
    "slideshow": {
     "slide_type": "slide"
    }
   },
   "outputs": [
    {
     "data": {
      "text/html": [
       "<div>\n",
       "<style scoped>\n",
       "    .dataframe tbody tr th:only-of-type {\n",
       "        vertical-align: middle;\n",
       "    }\n",
       "\n",
       "    .dataframe tbody tr th {\n",
       "        vertical-align: top;\n",
       "    }\n",
       "\n",
       "    .dataframe thead th {\n",
       "        text-align: right;\n",
       "    }\n",
       "</style>\n",
       "<table border=\"1\" class=\"dataframe\">\n",
       "  <thead>\n",
       "    <tr style=\"text-align: right;\">\n",
       "      <th></th>\n",
       "      <th>MajorCategory</th>\n",
       "      <th>Code</th>\n",
       "      <th>Status</th>\n",
       "      <th>StatusDate</th>\n",
       "      <th>Type</th>\n",
       "      <th>MinorCategory</th>\n",
       "    </tr>\n",
       "  </thead>\n",
       "  <tbody>\n",
       "    <tr>\n",
       "      <td>count</td>\n",
       "      <td>3381340</td>\n",
       "      <td>3228397</td>\n",
       "      <td>3381340</td>\n",
       "      <td>3380777</td>\n",
       "      <td>3381340</td>\n",
       "      <td>3381340</td>\n",
       "    </tr>\n",
       "    <tr>\n",
       "      <td>unique</td>\n",
       "      <td>16</td>\n",
       "      <td>241</td>\n",
       "      <td>2</td>\n",
       "      <td>2787</td>\n",
       "      <td>4</td>\n",
       "      <td>78</td>\n",
       "    </tr>\n",
       "    <tr>\n",
       "      <td>top</td>\n",
       "      <td>HEAT/HOT WATER</td>\n",
       "      <td>NO HEAT</td>\n",
       "      <td>CLOSE</td>\n",
       "      <td>02/18/2016</td>\n",
       "      <td>EMERGENCY</td>\n",
       "      <td>ENTIRE BUILDING</td>\n",
       "    </tr>\n",
       "    <tr>\n",
       "      <td>freq</td>\n",
       "      <td>1093678</td>\n",
       "      <td>653401</td>\n",
       "      <td>3338424</td>\n",
       "      <td>5664</td>\n",
       "      <td>2084124</td>\n",
       "      <td>712115</td>\n",
       "    </tr>\n",
       "  </tbody>\n",
       "</table>\n",
       "</div>"
      ],
      "text/plain": [
       "         MajorCategory     Code   Status  StatusDate       Type  \\\n",
       "count          3381340  3228397  3381340     3380777    3381340   \n",
       "unique              16      241        2        2787          4   \n",
       "top     HEAT/HOT WATER  NO HEAT    CLOSE  02/18/2016  EMERGENCY   \n",
       "freq           1093678   653401  3338424        5664    2084124   \n",
       "\n",
       "          MinorCategory  \n",
       "count           3381340  \n",
       "unique               78  \n",
       "top     ENTIRE BUILDING  \n",
       "freq             712115  "
      ]
     },
     "execution_count": 12,
     "metadata": {},
     "output_type": "execute_result"
    }
   ],
   "source": [
    "## Summarize the dataframe\n",
    "\n",
    "df2.describe()"
   ]
  },
  {
   "cell_type": "code",
   "execution_count": 13,
   "metadata": {
    "slideshow": {
     "slide_type": "slide"
    }
   },
   "outputs": [
    {
     "data": {
      "text/html": [
       "<div>\n",
       "<style scoped>\n",
       "    .dataframe tbody tr th:only-of-type {\n",
       "        vertical-align: middle;\n",
       "    }\n",
       "\n",
       "    .dataframe tbody tr th {\n",
       "        vertical-align: top;\n",
       "    }\n",
       "\n",
       "    .dataframe thead th {\n",
       "        text-align: right;\n",
       "    }\n",
       "</style>\n",
       "<table border=\"1\" class=\"dataframe\">\n",
       "  <thead>\n",
       "    <tr style=\"text-align: right;\">\n",
       "      <th></th>\n",
       "      <th>Type</th>\n",
       "      <th>StatusDescription</th>\n",
       "      <th>TypeID</th>\n",
       "    </tr>\n",
       "  </thead>\n",
       "  <tbody>\n",
       "    <tr>\n",
       "      <td>0</td>\n",
       "      <td>EMERGENCY</td>\n",
       "      <td>The Department of Housing Preservation and Dev...</td>\n",
       "      <td>0</td>\n",
       "    </tr>\n",
       "    <tr>\n",
       "      <td>1</td>\n",
       "      <td>NON EMERGENCY</td>\n",
       "      <td>The Department of Housing Preservation and Dev...</td>\n",
       "      <td>1</td>\n",
       "    </tr>\n",
       "    <tr>\n",
       "      <td>2</td>\n",
       "      <td>EMERGENCY</td>\n",
       "      <td>The Department of Housing Preservation and Dev...</td>\n",
       "      <td>0</td>\n",
       "    </tr>\n",
       "    <tr>\n",
       "      <td>3</td>\n",
       "      <td>EMERGENCY</td>\n",
       "      <td>The Department of Housing Preservation and De...</td>\n",
       "      <td>0</td>\n",
       "    </tr>\n",
       "    <tr>\n",
       "      <td>4</td>\n",
       "      <td>NON EMERGENCY</td>\n",
       "      <td>The Department of Housing Preservation and De...</td>\n",
       "      <td>1</td>\n",
       "    </tr>\n",
       "  </tbody>\n",
       "</table>\n",
       "</div>"
      ],
      "text/plain": [
       "            Type                                  StatusDescription  TypeID\n",
       "0      EMERGENCY  The Department of Housing Preservation and Dev...       0\n",
       "1  NON EMERGENCY  The Department of Housing Preservation and Dev...       1\n",
       "2      EMERGENCY  The Department of Housing Preservation and Dev...       0\n",
       "3      EMERGENCY   The Department of Housing Preservation and De...       0\n",
       "4  NON EMERGENCY   The Department of Housing Preservation and De...       1"
      ]
     },
     "execution_count": 13,
     "metadata": {},
     "output_type": "execute_result"
    }
   ],
   "source": [
    "## Data Pre-Processing\n",
    "\n",
    "#### We are interested in examining two columns — “Type” and “StatusDescription”.\n",
    "#### * Input: StatusDescription\n",
    "#### * Example: “  The Department of Housing Preservation and Development inspected the following conditions. No violations were issued. The complaint has been closed.”\n",
    "#### * Output: Type\n",
    "#### * Example: NON EMERGENCY\n",
    "#### Missing values are removed from “StatusDescription” column, and add a column encoding the product as an integer because categorical variables are often better represented by integers than strings.\n",
    "\n",
    "#### After cleaning up, this is the first five rows of the data we will be working on:\n",
    "\n",
    "from io import StringIO\n",
    "col = ['Type', 'StatusDescription']\n",
    "df = df[col]\n",
    "df = df[pd.notnull(df['StatusDescription'])]\n",
    "\n",
    "df.columns = ['Type', 'StatusDescription']\n",
    "\n",
    "df['TypeID'] = df['Type'].factorize()[0]\n",
    "TypeID_df = df[['Type', 'TypeID']].drop_duplicates().sort_values('TypeID')\n",
    "\n",
    "Type_to_id = dict(TypeID_df.values)\n",
    "id_to_Type = dict(TypeID_df[['TypeID', 'Type']].values)\n",
    "\n",
    "df.head()"
   ]
  },
  {
   "cell_type": "code",
   "execution_count": 15,
   "metadata": {
    "slideshow": {
     "slide_type": "slide"
    }
   },
   "outputs": [
    {
     "data": {
      "image/png": "[encoded data removed]",
      "text/plain": [
       "<Figure size 576x432 with 1 Axes>"
      ]
     },
     "metadata": {
      "needs_background": "light"
     },
     "output_type": "display_data"
    }
   ],
   "source": [
    "## Imbalanced Classes\n",
    "\n",
    "#### address imbalanced classes with resampling methods, impute missing values, obtain more data\n",
    "\n",
    "#### We can see that complaint types are biased towards the complaint type 'EMERGENCY'\n",
    "\n",
    "import matplotlib.pyplot as plt\n",
    "fig = plt.figure(figsize=(8,6))\n",
    "df.groupby('Type').StatusDescription.count().plot.bar(ylim=0)\n",
    "plt.show()\n",
    "\n",
    "#### Conventional algorithms are often biased towards the majority class, not taking the data distribution into consideration. In the worst case, minority classes are treated as outliers and ignored. For some cases, such as fraud detection or cancer prediction, we would need to carefully configure our model or artificially balance the dataset, for example by undersampling or oversampling each class."
   ]
  },
  {
   "cell_type": "markdown",
   "metadata": {
    "slideshow": {
     "slide_type": "slide"
    }
   },
   "source": [
    "## Text Representation\n",
    "\n",
    "#### The classifiers and learning algorithms can not directly process the text documents in their original form, as most of them expect numerical feature vectors with a fixed size rather than the raw text documents with variable length. Therefore, during the preprocessing step, the texts are converted to a more manageable representation.\n",
    "#### One common approach for extracting features from text is to use the bag of words model: a model where for each document, a complaint narrative in our case, the presence (and often the frequency) of words is taken into consideration, but the order in which they occur is ignored.\n",
    "#### Specifically, for each term in our dataset, we will calculate a measure called Term Frequency, Inverse Document Frequency, abbreviated to tf-idf. We will use sklearn.feature_extraction.text.TfidfVectorizer to calculate a tf-idf vector for each of consumer complaint narratives:\n",
    "\n",
    "#### * sublinear_df is set to True to use a logarithmic form for frequency.\n",
    "#### * min_df is the minimum numbers of documents a word must be present in to be kept.\n",
    "#### * norm is set to l2, to ensure all our feature vectors have a euclidian norm of 1.\n",
    "#### * ngram_range is set to (1, 2) to indicate that we want to consider both unigrams and bigrams.\n",
    "#### * stop_words is set to \"english\" to remove all common pronouns (\"a\", \"the\", ...) to reduce the number of noisy features."
   ]
  },
  {
   "cell_type": "code",
   "execution_count": 16,
   "metadata": {
    "slideshow": {
     "slide_type": "slide"
    }
   },
   "outputs": [
    {
     "data": {
      "text/plain": [
       "(3364529, 247)"
      ]
     },
     "execution_count": 16,
     "metadata": {},
     "output_type": "execute_result"
    }
   ],
   "source": [
    "from sklearn.feature_extraction.text import TfidfVectorizer\n",
    "\n",
    "tfidf = TfidfVectorizer(sublinear_tf=True, min_df=5, norm='l2', encoding='latin-1', ngram_range=(1, 2), stop_words='english')\n",
    "features = tfidf.fit_transform(df.StatusDescription).toarray()\n",
    "labels = df.TypeID\n",
    "\n",
    "features.shape\n",
    "\n",
    "#### Now, each of 1045040 complaint status description is represented by 241 features, representing the tf-idf score for different unigrams and bigrams."
   ]
  },
  {
   "cell_type": "code",
   "execution_count": 17,
   "metadata": {
    "slideshow": {
     "slide_type": "slide"
    }
   },
   "outputs": [
    {
     "name": "stdout",
     "output_type": "stream",
     "text": [
      "# 'EMERGENCY':\n",
      "  . Most correlated unigrams:\n",
      ". heat\n",
      ". building\n",
      "  . Most correlated bigrams:\n",
      ". hot water\n",
      ". heat hot\n",
      "# 'HAZARDOUS':\n",
      "  . Most correlated unigrams:\n",
      ". nyc\n",
      ". gov\n",
      "  . Most correlated bigrams:\n",
      ". nyc gov\n",
      ". www nyc\n",
      "# 'IMMEDIATE EMERGENCY':\n",
      "  . Most correlated unigrams:\n",
      ". heat\n",
      ". violations\n",
      "  . Most correlated bigrams:\n",
      ". violations issued\n",
      ". issued complaint\n",
      "# 'NON EMERGENCY':\n",
      "  . Most correlated unigrams:\n",
      ". heat\n",
      ". building\n",
      "  . Most correlated bigrams:\n",
      ". heat hot\n",
      ". hot water\n"
     ]
    }
   ],
   "source": [
    "## Find the terms that are the most correlated with each of the products:\n",
    "\n",
    "from sklearn.feature_selection import chi2\n",
    "import numpy as np\n",
    "N = 2\n",
    "for Type, TypeID in sorted(Type_to_id.items()):\n",
    "  features_chi2 = chi2(features, labels == TypeID)\n",
    "  indices = np.argsort(features_chi2[0])\n",
    "  feature_names = np.array(tfidf.get_feature_names())[indices]\n",
    "  unigrams = [v for v in feature_names if len(v.split(' ')) == 1]\n",
    "  bigrams = [v for v in feature_names if len(v.split(' ')) == 2]\n",
    "  print(\"# '{}':\".format(Type))\n",
    "  print(\"  . Most correlated unigrams:\\n. {}\".format('\\n. '.join(unigrams[-N:])))\n",
    "  print(\"  . Most correlated bigrams:\\n. {}\".format('\\n. '.join(bigrams[-N:])))"
   ]
  },
  {
   "cell_type": "code",
   "execution_count": 18,
   "metadata": {
    "slideshow": {
     "slide_type": "slide"
    }
   },
   "outputs": [],
   "source": [
    "# Multi-Class Classifier: Features and Design\n",
    "\n",
    "#### To train supervised classifiers, we first transformed the “StatusDesscription” into a vector of numbers. We explored vector representations such as TF-IDF weighted vectors.\n",
    "#### After having this vector representations of the text we can train supervised classifiers to train unseen “Consumer complaint narrative” and predict the “product” on which they fall.\n",
    "#### After all the above data transformation, now that we have all the features and labels, it is time to train the classifiers. There are a number of algorithms we can use for this type of problem.\n",
    "\n",
    "## Naive Bayes Classifier: the one most suitable for word counts is the multinomial variant:\n",
    "\n",
    "from sklearn.model_selection import train_test_split\n",
    "from sklearn.feature_extraction.text import CountVectorizer\n",
    "from sklearn.feature_extraction.text import TfidfTransformer\n",
    "from sklearn.naive_bayes import MultinomialNB\n",
    "X_train, X_test, y_train, y_test = train_test_split(df['StatusDescription'], df['Type'], random_state = 0)\n",
    "count_vect = CountVectorizer()\n",
    "X_train_counts = count_vect.fit_transform(X_train)\n",
    "tfidf_transformer = TfidfTransformer()\n",
    "X_train_tfidf = tfidf_transformer.fit_transform(X_train_counts)\n",
    "clf = MultinomialNB().fit(X_train_tfidf, y_train)"
   ]
  },
  {
   "cell_type": "code",
   "execution_count": 19,
   "metadata": {
    "slideshow": {
     "slide_type": "slide"
    }
   },
   "outputs": [
    {
     "name": "stdout",
     "output_type": "stream",
     "text": [
      "['NON EMERGENCY']\n"
     ]
    }
   ],
   "source": [
    "## After fitting the training set, let’s make some predictions to predict the status of the complaint type:\n",
    "\n",
    "print(clf.predict(count_vect.transform([\" The Department of Housing Preservation and Development inspected the following conditions. Violations were issued. Information about specific violations is available at www.nyc.gov/hpd.\"])))\n"
   ]
  },
  {
   "cell_type": "code",
   "execution_count": 20,
   "metadata": {
    "slideshow": {
     "slide_type": "slide"
    }
   },
   "outputs": [
    {
     "data": {
      "text/html": [
       "<div>\n",
       "<style scoped>\n",
       "    .dataframe tbody tr th:only-of-type {\n",
       "        vertical-align: middle;\n",
       "    }\n",
       "\n",
       "    .dataframe tbody tr th {\n",
       "        vertical-align: top;\n",
       "    }\n",
       "\n",
       "    .dataframe thead th {\n",
       "        text-align: right;\n",
       "    }\n",
       "</style>\n",
       "<table border=\"1\" class=\"dataframe\">\n",
       "  <thead>\n",
       "    <tr style=\"text-align: right;\">\n",
       "      <th></th>\n",
       "      <th>Type</th>\n",
       "      <th>StatusDescription</th>\n",
       "      <th>TypeID</th>\n",
       "    </tr>\n",
       "  </thead>\n",
       "  <tbody>\n",
       "    <tr>\n",
       "      <td>8</td>\n",
       "      <td>IMMEDIATE EMERGENCY</td>\n",
       "      <td>The Department of Housing Preservation and De...</td>\n",
       "      <td>2</td>\n",
       "    </tr>\n",
       "    <tr>\n",
       "      <td>9</td>\n",
       "      <td>NON EMERGENCY</td>\n",
       "      <td>The Department of Housing Preservation and De...</td>\n",
       "      <td>1</td>\n",
       "    </tr>\n",
       "    <tr>\n",
       "      <td>12</td>\n",
       "      <td>IMMEDIATE EMERGENCY</td>\n",
       "      <td>The Department of Housing Preservation and De...</td>\n",
       "      <td>2</td>\n",
       "    </tr>\n",
       "    <tr>\n",
       "      <td>13</td>\n",
       "      <td>EMERGENCY</td>\n",
       "      <td>The Department of Housing Preservation and De...</td>\n",
       "      <td>0</td>\n",
       "    </tr>\n",
       "    <tr>\n",
       "      <td>15</td>\n",
       "      <td>EMERGENCY</td>\n",
       "      <td>The Department of Housing Preservation and De...</td>\n",
       "      <td>0</td>\n",
       "    </tr>\n",
       "    <tr>\n",
       "      <td>...</td>\n",
       "      <td>...</td>\n",
       "      <td>...</td>\n",
       "      <td>...</td>\n",
       "    </tr>\n",
       "    <tr>\n",
       "      <td>3381323</td>\n",
       "      <td>NON EMERGENCY</td>\n",
       "      <td>The Department of Housing Preservation and De...</td>\n",
       "      <td>1</td>\n",
       "    </tr>\n",
       "    <tr>\n",
       "      <td>3381325</td>\n",
       "      <td>EMERGENCY</td>\n",
       "      <td>The Department of Housing Preservation and De...</td>\n",
       "      <td>0</td>\n",
       "    </tr>\n",
       "    <tr>\n",
       "      <td>3381332</td>\n",
       "      <td>NON EMERGENCY</td>\n",
       "      <td>The Department of Housing Preservation and De...</td>\n",
       "      <td>1</td>\n",
       "    </tr>\n",
       "    <tr>\n",
       "      <td>3381335</td>\n",
       "      <td>EMERGENCY</td>\n",
       "      <td>The Department of Housing Preservation and De...</td>\n",
       "      <td>0</td>\n",
       "    </tr>\n",
       "    <tr>\n",
       "      <td>3381336</td>\n",
       "      <td>NON EMERGENCY</td>\n",
       "      <td>The Department of Housing Preservation and De...</td>\n",
       "      <td>1</td>\n",
       "    </tr>\n",
       "  </tbody>\n",
       "</table>\n",
       "<p>64525 rows × 3 columns</p>\n",
       "</div>"
      ],
      "text/plain": [
       "                        Type  \\\n",
       "8        IMMEDIATE EMERGENCY   \n",
       "9              NON EMERGENCY   \n",
       "12       IMMEDIATE EMERGENCY   \n",
       "13                 EMERGENCY   \n",
       "15                 EMERGENCY   \n",
       "...                      ...   \n",
       "3381323        NON EMERGENCY   \n",
       "3381325            EMERGENCY   \n",
       "3381332        NON EMERGENCY   \n",
       "3381335            EMERGENCY   \n",
       "3381336        NON EMERGENCY   \n",
       "\n",
       "                                         StatusDescription  TypeID  \n",
       "8         The Department of Housing Preservation and De...       2  \n",
       "9         The Department of Housing Preservation and De...       1  \n",
       "12        The Department of Housing Preservation and De...       2  \n",
       "13        The Department of Housing Preservation and De...       0  \n",
       "15        The Department of Housing Preservation and De...       0  \n",
       "...                                                    ...     ...  \n",
       "3381323   The Department of Housing Preservation and De...       1  \n",
       "3381325   The Department of Housing Preservation and De...       0  \n",
       "3381332   The Department of Housing Preservation and De...       1  \n",
       "3381335   The Department of Housing Preservation and De...       0  \n",
       "3381336   The Department of Housing Preservation and De...       1  \n",
       "\n",
       "[64525 rows x 3 columns]"
      ]
     },
     "execution_count": 20,
     "metadata": {},
     "output_type": "execute_result"
    }
   ],
   "source": [
    "df[df['StatusDescription'] == \" The Department of Housing Preservation and Development inspected the following conditions. No violations were issued. The complaint has been closed.\"]\n"
   ]
  },
  {
   "cell_type": "code",
   "execution_count": 21,
   "metadata": {
    "slideshow": {
     "slide_type": "slide"
    }
   },
   "outputs": [
    {
     "name": "stdout",
     "output_type": "stream",
     "text": [
      "['EMERGENCY']\n"
     ]
    }
   ],
   "source": [
    "print(clf.predict(count_vect.transform([\"More than one complaint was received for this building-wide condition.This complaint status is for the initial complaint. The Department of Housing Preservation and Development contacted an occupant of the apartment and verified that the following conditions were corrected. The complaint has been closed. If the condition still exists, please file a new complaint.\"])))"
   ]
  },
  {
   "cell_type": "code",
   "execution_count": 22,
   "metadata": {
    "slideshow": {
     "slide_type": "slide"
    }
   },
   "outputs": [
    {
     "data": {
      "text/html": [
       "<div>\n",
       "<style scoped>\n",
       "    .dataframe tbody tr th:only-of-type {\n",
       "        vertical-align: middle;\n",
       "    }\n",
       "\n",
       "    .dataframe tbody tr th {\n",
       "        vertical-align: top;\n",
       "    }\n",
       "\n",
       "    .dataframe thead th {\n",
       "        text-align: right;\n",
       "    }\n",
       "</style>\n",
       "<table border=\"1\" class=\"dataframe\">\n",
       "  <thead>\n",
       "    <tr style=\"text-align: right;\">\n",
       "      <th></th>\n",
       "      <th>Type</th>\n",
       "      <th>StatusDescription</th>\n",
       "      <th>TypeID</th>\n",
       "    </tr>\n",
       "  </thead>\n",
       "  <tbody>\n",
       "    <tr>\n",
       "      <td>11</td>\n",
       "      <td>EMERGENCY</td>\n",
       "      <td>The Department of Housing Preservation and Dev...</td>\n",
       "      <td>0</td>\n",
       "    </tr>\n",
       "    <tr>\n",
       "      <td>62</td>\n",
       "      <td>EMERGENCY</td>\n",
       "      <td>The Department of Housing Preservation and Dev...</td>\n",
       "      <td>0</td>\n",
       "    </tr>\n",
       "    <tr>\n",
       "      <td>69</td>\n",
       "      <td>EMERGENCY</td>\n",
       "      <td>The Department of Housing Preservation and Dev...</td>\n",
       "      <td>0</td>\n",
       "    </tr>\n",
       "    <tr>\n",
       "      <td>86</td>\n",
       "      <td>EMERGENCY</td>\n",
       "      <td>The Department of Housing Preservation and Dev...</td>\n",
       "      <td>0</td>\n",
       "    </tr>\n",
       "    <tr>\n",
       "      <td>186</td>\n",
       "      <td>EMERGENCY</td>\n",
       "      <td>The Department of Housing Preservation and Dev...</td>\n",
       "      <td>0</td>\n",
       "    </tr>\n",
       "    <tr>\n",
       "      <td>...</td>\n",
       "      <td>...</td>\n",
       "      <td>...</td>\n",
       "      <td>...</td>\n",
       "    </tr>\n",
       "    <tr>\n",
       "      <td>3211272</td>\n",
       "      <td>EMERGENCY</td>\n",
       "      <td>The Department of Housing Preservation and Dev...</td>\n",
       "      <td>0</td>\n",
       "    </tr>\n",
       "    <tr>\n",
       "      <td>3211354</td>\n",
       "      <td>EMERGENCY</td>\n",
       "      <td>The Department of Housing Preservation and Dev...</td>\n",
       "      <td>0</td>\n",
       "    </tr>\n",
       "    <tr>\n",
       "      <td>3211376</td>\n",
       "      <td>EMERGENCY</td>\n",
       "      <td>The Department of Housing Preservation and Dev...</td>\n",
       "      <td>0</td>\n",
       "    </tr>\n",
       "    <tr>\n",
       "      <td>3211382</td>\n",
       "      <td>EMERGENCY</td>\n",
       "      <td>The Department of Housing Preservation and Dev...</td>\n",
       "      <td>0</td>\n",
       "    </tr>\n",
       "    <tr>\n",
       "      <td>3211407</td>\n",
       "      <td>EMERGENCY</td>\n",
       "      <td>The Department of Housing Preservation and Dev...</td>\n",
       "      <td>0</td>\n",
       "    </tr>\n",
       "  </tbody>\n",
       "</table>\n",
       "<p>235474 rows × 3 columns</p>\n",
       "</div>"
      ],
      "text/plain": [
       "              Type                                  StatusDescription  TypeID\n",
       "11       EMERGENCY  The Department of Housing Preservation and Dev...       0\n",
       "62       EMERGENCY  The Department of Housing Preservation and Dev...       0\n",
       "69       EMERGENCY  The Department of Housing Preservation and Dev...       0\n",
       "86       EMERGENCY  The Department of Housing Preservation and Dev...       0\n",
       "186      EMERGENCY  The Department of Housing Preservation and Dev...       0\n",
       "...            ...                                                ...     ...\n",
       "3211272  EMERGENCY  The Department of Housing Preservation and Dev...       0\n",
       "3211354  EMERGENCY  The Department of Housing Preservation and Dev...       0\n",
       "3211376  EMERGENCY  The Department of Housing Preservation and Dev...       0\n",
       "3211382  EMERGENCY  The Department of Housing Preservation and Dev...       0\n",
       "3211407  EMERGENCY  The Department of Housing Preservation and Dev...       0\n",
       "\n",
       "[235474 rows x 3 columns]"
      ]
     },
     "execution_count": 22,
     "metadata": {},
     "output_type": "execute_result"
    }
   ],
   "source": [
    "df[df['StatusDescription'] == \"The Department of Housing Preservation and Development responded to a complaint of no heat or hot water and was advised by a tenant in the building that heat and hot water had been restored. If the condition still exists, please file a new complaint.\"]\n"
   ]
  },
  {
   "cell_type": "markdown",
   "metadata": {
    "slideshow": {
     "slide_type": "slide"
    }
   },
   "source": [
    "# Model Selection\n",
    "\n",
    "### We are now ready to experiment with different machine learning models, evaluate their accuracy and find the source of any potential issues.\n",
    "### We will benchmark the following four models:\n",
    "\n",
    "#### 1. Logistic Regression\n",
    "#### 2. (Multinomial) Naive Bayes\n",
    "#### 3. Linear Support Vector Machine\n",
    "#### 4. Random Forest"
   ]
  },
  {
   "cell_type": "code",
   "execution_count": null,
   "metadata": {
    "slideshow": {
     "slide_type": "slide"
    }
   },
   "outputs": [],
   "source": [
    "from sklearn.linear_model import LogisticRegression\n",
    "from sklearn.ensemble import RandomForestClassifier\n",
    "from sklearn.svm import LinearSVC\n",
    "from sklearn.model_selection import cross_val_score\n",
    "models = [\n",
    "    RandomForestClassifier(n_estimators=200, max_depth=3, random_state=0),\n",
    "    LinearSVC(),\n",
    "    MultinomialNB(),\n",
    "    LogisticRegression(random_state=0),\n",
    "]\n",
    "CV = 5\n",
    "cv_df = pd.DataFrame(index=range(CV * len(models)))\n",
    "entries = []\n",
    "for model in models:\n",
    "  model_name = model.__class__.__name__\n",
    "  accuracies = cross_val_score(model, features, labels, scoring='accuracy', cv=CV)\n",
    "  for fold_idx, accuracy in enumerate(accuracies):\n",
    "    entries.append((model_name, fold_idx, accuracy))\n",
    "cv_df = pd.DataFrame(entries, columns=['model_name', 'fold_idx', 'accuracy'])\n",
    "import seaborn as sns\n",
    "sns.boxplot(x='model_name', y='accuracy', data=cv_df)\n",
    "sns.stripplot(x='model_name', y='accuracy', data=cv_df, \n",
    "              size=8, jitter=True, edgecolor=\"gray\", linewidth=2)\n",
    "\n",
    "plt.show()"
   ]
  },
  {
   "cell_type": "code",
   "execution_count": null,
   "metadata": {
    "slideshow": {
     "slide_type": "slide"
    }
   },
   "outputs": [],
   "source": [
    "cv_df.groupby('model_name').accuracy.mean()"
   ]
  },
  {
   "cell_type": "markdown",
   "metadata": {
    "slideshow": {
     "slide_type": "slide"
    }
   },
   "source": [
    "## Model\n",
    "\n",
    "#### MultinomialNB and LinearSVC  perform better than the other two classifiers, with MultinomialNB having a slight advantage with a median accuracy of around 64%."
   ]
  },
  {
   "cell_type": "markdown",
   "metadata": {
    "slideshow": {
     "slide_type": "slide"
    }
   },
   "source": [
    "# Model Evaluation\n",
    "\n",
    "#### Continue with our best model (MultinomialNB), we are going to look at the confusion matrix, and show the discrepancies between predicted and actual labels."
   ]
  },
  {
   "cell_type": "code",
   "execution_count": null,
   "metadata": {
    "slideshow": {
     "slide_type": "slide"
    }
   },
   "outputs": [],
   "source": [
    "model = MultinomialNB()\n",
    "X_train, X_test, y_train, y_test, indices_train, indices_test = train_test_split(features, labels, df.index, test_size=0.33, random_state=0)\n",
    "model.fit(X_train, y_train)\n",
    "y_pred = model.predict(X_test)\n",
    "from sklearn.metrics import confusion_matrix\n",
    "conf_mat = confusion_matrix(y_test, y_pred)\n",
    "fig, ax = plt.subplots(figsize=(10,10))\n",
    "sns.heatmap(conf_mat, annot=True, fmt='d',\n",
    "            xticklabels=TypeID_df.Type.values, yticklabels=TypeID_df.Type.values)\n",
    "plt.ylabel('Actual')\n",
    "plt.xlabel('Predicted')\n",
    "plt.show()"
   ]
  },
  {
   "cell_type": "code",
   "execution_count": null,
   "metadata": {
    "slideshow": {
     "slide_type": "slide"
    }
   },
   "outputs": [],
   "source": [
    "#### The vast majority of the predictions end up on the diagonal (predicted label = actual label), where we want them to be. However, there are a number of misclassifications, and it might be interesting to see what those are caused by:\n",
    "\n",
    "from IPython.display import display\n",
    "for predicted in TypeID_df.TypeID:\n",
    "  for actual in TypeID_df.TypeID:\n",
    "    if predicted != actual and conf_mat[actual, predicted] >= 10:\n",
    "      print(\"'{}' predicted as '{}' : {} examples.\".format(id_to_Type[actual], id_to_Type[predicted], conf_mat[actual, predicted]))\n",
    "      display(df.loc[indices_test[(y_test == actual) & (y_pred == predicted)]][['Type', 'StatusDescription']])\n",
    "      print('')"
   ]
  },
  {
   "cell_type": "code",
   "execution_count": null,
   "metadata": {
    "slideshow": {
     "slide_type": "slide"
    }
   },
   "outputs": [],
   "source": [
    "#### Misclassified complaint status are complaints that touch on more than one subjects (for example, complaints involving both credit card and credit report). This sort of errors will always happen.\n",
    "#### Again, we use the chi-squared test to find the terms that are the most correlated with each of the categories:\n",
    "    \n",
    "model.fit(features, labels)\n",
    "N = 2\n",
    "for Type, TypeID in sorted(Type_to_id.items()):\n",
    "  indices = np.argsort(model.coef_[TypeID])\n",
    "  feature_names = np.array(tfidf.get_feature_names())[indices]\n",
    "  unigrams = [v for v in reversed(feature_names) if len(v.split(' ')) == 1][:N]\n",
    "  bigrams = [v for v in reversed(feature_names) if len(v.split(' ')) == 2][:N]\n",
    "  print(\"# '{}':\".format(Type))\n",
    "  print(\"  . Top unigrams:\\n       . {}\".format('\\n       . '.join(unigrams)))\n",
    "  print(\"  . Top bigrams:\\n       . {}\".format('\\n       . '.join(bigrams)))    "
   ]
  },
  {
   "cell_type": "code",
   "execution_count": null,
   "metadata": {
    "slideshow": {
     "slide_type": "slide"
    }
   },
   "outputs": [],
   "source": [
    "## They are consistent within our expectation.\n",
    "#### We print out the classification report for each class:\n",
    "\n",
    "from sklearn import metrics\n",
    "print(metrics.classification_report(y_test, y_pred, target_names=df['Type'].unique()))"
   ]
  },
  {
   "cell_type": "code",
   "execution_count": null,
   "metadata": {
    "slideshow": {
     "slide_type": "slide"
    }
   },
   "outputs": [],
   "source": [
    "# Data Visualisation\n",
    "\n",
    "#### Display the plots in the notebook with the following command\n",
    "%matplotlib inline\n",
    "\n",
    "#### Import the graphing libraries we will use\n",
    "import matplotlib.pyplot as plt\n",
    "\n",
    "plt.style.use('ggplot')"
   ]
  },
  {
   "cell_type": "code",
   "execution_count": null,
   "metadata": {
    "slideshow": {
     "slide_type": "slide"
    }
   },
   "outputs": [],
   "source": [
    "import seaborn as sns\n",
    "sns.set(color_codes=True)"
   ]
  },
  {
   "cell_type": "code",
   "execution_count": 43,
   "metadata": {
    "slideshow": {
     "slide_type": "slide"
    }
   },
   "outputs": [
    {
     "data": {
      "text/plain": [
       "Text(0,0.5,'Type')"
      ]
     },
     "execution_count": 43,
     "metadata": {},
     "output_type": "execute_result"
    },
    {
     "data": {
      "image/png": "[encoded data removed]",
      "text/plain": [
       "<Figure size 432x288 with 1 Axes>"
      ]
     },
     "metadata": {},
     "output_type": "display_data"
    }
   ],
   "source": [
    "# Barplot of Status grouped by Type \n",
    "pd.crosstab(df2.Status, df2.Type.astype(bool)).plot(kind='bar')\n",
    "plt.title('Complaint Status by Complaint Type')\n",
    "plt.xlabel('Status')\n",
    "plt.ylabel('Type')\n",
    "\n",
    "# status -> True = Open, False = Closed"
   ]
  },
  {
   "cell_type": "code",
   "execution_count": 44,
   "metadata": {
    "slideshow": {
     "slide_type": "slide"
    }
   },
   "outputs": [
    {
     "data": {
      "text/plain": [
       "Text(0,0.5,'Type')"
      ]
     },
     "execution_count": 44,
     "metadata": {},
     "output_type": "execute_result"
    },
    {
     "data": {
      "image/png": "[encoded data removed]",
      "text/plain": [
       "<Figure size 432x288 with 1 Axes>"
      ]
     },
     "metadata": {},
     "output_type": "display_data"
    }
   ],
   "source": [
    "# Barplot of Status grouped by Type \n",
    "pd.crosstab(df2.Status, df2.Type).plot(kind='bar')\n",
    "plt.title('Complaint Status by Complaint Type')\n",
    "plt.xlabel('Status')\n",
    "plt.ylabel('Type')\n"
   ]
  },
  {
   "cell_type": "code",
   "execution_count": 38,
   "metadata": {
    "slideshow": {
     "slide_type": "slide"
    }
   },
   "outputs": [
    {
     "data": {
      "text/plain": [
       "Text(0,0.5,'Type')"
      ]
     },
     "execution_count": 38,
     "metadata": {},
     "output_type": "execute_result"
    },
    {
     "data": {
      "image/png": "[encoded data removed]",
      "text/plain": [
       "<Figure size 432x288 with 1 Axes>"
      ]
     },
     "metadata": {},
     "output_type": "display_data"
    }
   ],
   "source": [
    "# Barplot of MajorCategory grouped by Type \n",
    "pd.crosstab(df2.MajorCategory, df2.Type).plot(kind='bar')\n",
    "plt.title('Complaint Category by Complaint Type')\n",
    "plt.xlabel('MajorCategory')\n",
    "plt.ylabel('Type')"
   ]
  },
  {
   "cell_type": "code",
   "execution_count": null,
   "metadata": {
    "slideshow": {
     "slide_type": "slide"
    }
   },
   "outputs": [],
   "source": [
    "# Grouped histogram of complaint status grouped by complaint status type (shows distribution for each group)\n",
    "\n",
    "#df2.Status.hist(by=df2.Type, sharex=True,sharey=True)\n",
    "#plt.xlabel('Type')\n",
    "#plt.ylabel('Status')\n"
   ]
  },
  {
   "cell_type": "code",
   "execution_count": null,
   "metadata": {
    "slideshow": {
     "slide_type": "slide"
    }
   },
   "outputs": [],
   "source": [
    "## References:\n",
    "* https://scikit-learn.org/stable/modules/multiclass.html\n",
    "* https://towardsdatascience.com/multi-class-text-classification-with-scikit-learn-12f1e60e0a9f"
   ]
  },
  {
   "cell_type": "code",
   "execution_count": null,
   "metadata": {
    "slideshow": {
     "slide_type": "slide"
    }
   },
   "outputs": [],
   "source": [
    "# The end"
   ]
  }
 ],
 "metadata": {
  "celltoolbar": "Slideshow",
  "kernelspec": {
   "display_name": "Python 3",
   "language": "python",
   "name": "python3"
  },
  "language_info": {
   "codemirror_mode": {
    "name": "ipython",
    "version": 3
   },
   "file_extension": ".py",
   "mimetype": "text/x-python",
   "name": "python",
   "nbconvert_exporter": "python",
   "pygments_lexer": "ipython3",
   "version": "3.7.4"
  }
 },
 "nbformat": 4,
 "nbformat_minor": 2
}
