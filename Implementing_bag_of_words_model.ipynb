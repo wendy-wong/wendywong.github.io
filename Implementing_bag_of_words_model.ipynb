{
 "cells": [
  {
   "cell_type": "markdown",
   "id": "4de13747",
   "metadata": {},
   "source": [
    "## Applying the bag-of-words model"
   ]
  },
  {
   "cell_type": "markdown",
   "id": "9f396a0e",
   "metadata": {},
   "source": [
    "Python Machine Learning 2nd Edition by Sebastian Raschka, Packt Publishing Ltd. 2017\n",
    "\n",
    "Code Repository: https://github.com/rasbt/python-machine-learning-book-2nd-edition\n"
   ]
  },
  {
   "cell_type": "code",
   "execution_count": 1,
   "id": "93574a66",
   "metadata": {},
   "outputs": [],
   "source": [
    "# Import Python libraries\n",
    "\n",
    "import numpy as np\n",
    "from sklearn.feature_extraction.text import CountVectorizer"
   ]
  },
  {
   "cell_type": "code",
   "execution_count": 2,
   "id": "5645f82e",
   "metadata": {},
   "outputs": [],
   "source": [
    "# Construct the bag-of-words model based on the word counts in a document\n",
    "\n",
    "vectorizer = CountVectorizer()\n",
    "bow_model = np.array([\n",
    "    'AWS Summit Sydney 2024 at International Convention & Exhibition Centre, Sydney',\n",
    "    'What magic will you build?',\n",
    "    'There was Builders Day on Wednesday 10 April',\n",
    "    'There was Innovation Day on Thursday 11 April',\n",
    "    'I am excited for AWS Summit London on 24 April',\n",
    "    'Will you be attending AWS Summit New York on 10 July?'])"
   ]
  },
  {
   "cell_type": "code",
   "execution_count": 3,
   "id": "a4367757",
   "metadata": {},
   "outputs": [],
   "source": [
    "# Construct the vocabulary of the bag-of-words-model and transformed 6 sentences into feature vectors\n",
    "bag = vectorizer.fit_transform(bow_model)"
   ]
  },
  {
   "cell_type": "code",
   "execution_count": 4,
   "id": "1427214d",
   "metadata": {},
   "outputs": [
    {
     "name": "stdout",
     "output_type": "stream",
     "text": [
      "{'aws': 8, 'summit': 25, 'sydney': 26, '2024': 2, 'at': 6, 'international': 19, 'convention': 13, 'exhibition': 16, 'centre': 12, 'what': 31, 'magic': 22, 'will': 32, 'you': 34, 'build': 10, 'there': 27, 'was': 29, 'builders': 11, 'day': 14, 'on': 24, 'wednesday': 30, '10': 0, 'april': 5, 'innovation': 18, 'thursday': 28, '11': 1, 'am': 4, 'excited': 15, 'for': 17, 'london': 21, '24': 3, 'be': 9, 'attending': 7, 'new': 23, 'york': 33, 'july': 20}\n"
     ]
    }
   ],
   "source": [
    "# Print the vocabulary\n",
    "print(vectorizer.vocabulary_)"
   ]
  },
  {
   "cell_type": "code",
   "execution_count": 5,
   "id": "89314ddf",
   "metadata": {},
   "outputs": [
    {
     "name": "stdout",
     "output_type": "stream",
     "text": [
      "[[0 0 1 0 0 0 1 0 1 0 0 0 1 1 0 0 1 0 0 1 0 0 0 0 0 1 2 0 0 0 0 0 0 0 0]\n",
      " [0 0 0 0 0 0 0 0 0 0 1 0 0 0 0 0 0 0 0 0 0 0 1 0 0 0 0 0 0 0 0 1 1 0 1]\n",
      " [1 0 0 0 0 1 0 0 0 0 0 1 0 0 1 0 0 0 0 0 0 0 0 0 1 0 0 1 0 1 1 0 0 0 0]\n",
      " [0 1 0 0 0 1 0 0 0 0 0 0 0 0 1 0 0 0 1 0 0 0 0 0 1 0 0 1 1 1 0 0 0 0 0]\n",
      " [0 0 0 1 1 1 0 0 1 0 0 0 0 0 0 1 0 1 0 0 0 1 0 0 1 1 0 0 0 0 0 0 0 0 0]\n",
      " [1 0 0 0 0 0 0 1 1 1 0 0 0 0 0 0 0 0 0 0 1 0 0 1 1 1 0 0 0 0 0 0 1 1 1]]\n"
     ]
    }
   ],
   "source": [
    "# Vocabulary is stored in a Python dictionary\n",
    "print(bag.toarray())"
   ]
  },
  {
   "cell_type": "markdown",
   "id": "e71c42b4",
   "metadata": {},
   "source": [
    "The sequence of  items in the bag-of-words model is called **1-gram** or **unigram**\n",
    "For example:\n",
    "\n",
    "* unigram: \"aws\", \"summit\", \"sydney\"\n",
    "* bigram: \"aws summit\", \"summit sydney\", \"sydney 2024\""
   ]
  }
 ],
 "metadata": {
  "kernelspec": {
   "display_name": "Python 3 (ipykernel)",
   "language": "python",
   "name": "python3"
  },
  "language_info": {
   "codemirror_mode": {
    "name": "ipython",
    "version": 3
   },
   "file_extension": ".py",
   "mimetype": "text/x-python",
   "name": "python",
   "nbconvert_exporter": "python",
   "pygments_lexer": "ipython3",
   "version": "3.10.9"
  }
 },
 "nbformat": 4,
 "nbformat_minor": 5
}
